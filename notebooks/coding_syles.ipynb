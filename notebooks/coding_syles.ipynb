{
 "cells": [
  {
   "cell_type": "code",
   "execution_count": null,
   "id": "d219fe5a-73a9-42c9-88c9-1222d10a7337",
   "metadata": {},
   "outputs": [],
   "source": [
    "import numpy as np\n",
    "import glob\n",
    "import os\n",
    "import astropy.constants as const"
   ]
  },
  {
   "cell_type": "markdown",
   "id": "bda8ea37-1cce-4eca-a9de-70d96443b5da",
   "metadata": {},
   "source": [
    "I wrote a separate script to load in the planet data so we don't have to deal with that here. It returns a dictionary, with the planet names as keys, and the contents of the csv file as a Numpy array"
   ]
  },
  {
   "cell_type": "code",
   "execution_count": null,
   "id": "350aeaf3-6cbc-4263-8a1c-94acfa2edf60",
   "metadata": {},
   "outputs": [],
   "source": [
    "from load_planet_data import load"
   ]
  },
  {
   "cell_type": "code",
   "execution_count": null,
   "id": "3b4b7d8a-158f-4616-a5b6-965e20e920be",
   "metadata": {},
   "outputs": [],
   "source": [
    "xv_data = load()"
   ]
  },
  {
   "cell_type": "code",
   "execution_count": null,
   "id": "18bb5f61-8303-49d0-bd77-e5efeb2d23bc",
   "metadata": {},
   "outputs": [],
   "source": [
    "xv_data['Pluto'].shape"
   ]
  },
  {
   "cell_type": "markdown",
   "id": "d6496a51-3454-4f02-9cff-8609146d75f3",
   "metadata": {},
   "source": [
    "Next I will compute the semimajor axis and eccentricityj values of Pluto using the different coding styles."
   ]
  },
  {
   "cell_type": "markdown",
   "id": "e99f96af-1120-4beb-8fe7-43150e38bbb5",
   "metadata": {},
   "source": [
    "# Procedural\n",
    "In this paradigm, we write all the steps needed to accomplish our task in order."
   ]
  },
  {
   "cell_type": "markdown",
   "id": "0e56cf5d-086e-4069-967c-fe0659f037ce",
   "metadata": {},
   "source": [
    "### 1. Compute the solar gravitational constant in the appropriate units."
   ]
  },
  {
   "cell_type": "code",
   "execution_count": null,
   "id": "4420894c-eca7-4aae-93e3-f0749f3177a3",
   "metadata": {},
   "outputs": [],
   "source": [
    "AU2M = const.au.value\n",
    "GMSunSI = const.GM_sun.value\n",
    "MSun = const.M_sun.value\n",
    "JD2S = 86400\n",
    "\n",
    "GMSunAUD = GMSunSI * JD2S**2 / AU2M**3"
   ]
  },
  {
   "cell_type": "markdown",
   "id": "b163777f-88a5-4938-a05d-3e8f0008aa1d",
   "metadata": {},
   "source": [
    "### 2. Compute the 2-body Gravitational parameter $\\mu=G\\left(M_{sun}+M_{pluto}\\right)$."
   ]
  },
  {
   "cell_type": "code",
   "execution_count": null,
   "id": "88405fa2-a74c-4252-b5ec-4a8f0c2387e1",
   "metadata": {},
   "outputs": [],
   "source": [
    "Mpluto = 1.0 / 1.35e8\n",
    "mu = GMSunAUD * (1 + Mpluto)"
   ]
  },
  {
   "cell_type": "markdown",
   "id": "95d786d6-72d0-407f-8b2a-9f2e4a6c8927",
   "metadata": {},
   "source": [
    "### 3. Extract the position and velocity vectors for Pluto.\n",
    "\n",
    "Here we have to be mindful with how data is stored. I wrote the code for reading in data in a way thatThe data is a 2D array, where the time values in column 1, the components of the position vector in columns 2-4 and velocity vector in columns 5-7. The rows are the values at each point in time."
   ]
  },
  {
   "cell_type": "code",
   "execution_count": null,
   "id": "f0d182c8-c815-4b90-9b49-a0f5d01fa8ce",
   "metadata": {},
   "outputs": [],
   "source": [
    "tvals = xv_data['Pluto'][:,0]\n",
    "rvec = xv_data['Pluto'][:,1:4]\n",
    "vvec = xv_data['Pluto'][:,4:7]"
   ]
  },
  {
   "cell_type": "markdown",
   "id": "4d908570-c327-4f9a-a977-a4e06e5485d7",
   "metadata": {},
   "source": [
    "A very common issue is to get the axes mixed up when working with Numpy arrays, so it's always good to verify the shapes. I have 1001 time values and 3 dimensions, so I should end up with shapes of `(1001,3)` for my cartesian vectors and `(1001,)` for my time vector."
   ]
  },
  {
   "cell_type": "code",
   "execution_count": null,
   "id": "439ebf67-f7ba-441a-aa64-f6600ed50197",
   "metadata": {},
   "outputs": [],
   "source": [
    "tvals.shape, rvec.shape, vvec.shape"
   ]
  },
  {
   "cell_type": "markdown",
   "id": "eefda233-8a9f-4cdb-a34d-89d2f89194b7",
   "metadata": {},
   "source": [
    "### 4. Compute the magnitudes of the position, velocity, and angular momentum\n",
    "\n",
    "For this, I'll use Numpy's `norm` method from the linear algebra package. This lets me compute the row-wise magnitude of an (N,3) cartesian vector"
   ]
  },
  {
   "cell_type": "code",
   "execution_count": null,
   "id": "9b0cd089-8dbc-4b52-85ff-267089dc2f6e",
   "metadata": {},
   "outputs": [],
   "source": [
    "rmag = np.linalg.norm(rvec,axis=1)\n",
    "vmag = np.linalg.norm(vvec,axis=1)"
   ]
  },
  {
   "cell_type": "markdown",
   "id": "634d20b9-dfa9-4e4b-bad2-acdf61c0f65f",
   "metadata": {},
   "source": [
    "Verify that I did it correctly by checking the shape"
   ]
  },
  {
   "cell_type": "code",
   "execution_count": null,
   "id": "213dfe65-b328-47e0-b95c-e2fe07a326a9",
   "metadata": {},
   "outputs": [],
   "source": [
    "rmag.shape, vmag.shape"
   ]
  },
  {
   "cell_type": "markdown",
   "id": "53881177-6162-4b8f-adfa-3d1bed6fffdd",
   "metadata": {},
   "source": [
    "Same procedure with the angular momentum"
   ]
  },
  {
   "cell_type": "code",
   "execution_count": null,
   "id": "6df5ae8c-6fd4-4fa6-86b7-11e6e85a8935",
   "metadata": {},
   "outputs": [],
   "source": [
    "h = np.cross(rvec,vvec)"
   ]
  },
  {
   "cell_type": "code",
   "execution_count": null,
   "id": "56cf1ed0-1c0e-4e5e-bc3e-a80665b9cd47",
   "metadata": {},
   "outputs": [],
   "source": [
    "h.shape"
   ]
  },
  {
   "cell_type": "code",
   "execution_count": null,
   "id": "df50f35b-2ccc-46e2-a57c-bc359dfe9588",
   "metadata": {},
   "outputs": [],
   "source": [
    "hmag = np.linalg.norm(h,axis=1)\n",
    "hmag.shape"
   ]
  },
  {
   "cell_type": "markdown",
   "id": "60d99d73-d362-4528-956c-713466887143",
   "metadata": {},
   "source": [
    "### 5. Compute semimajor axis and eccentricity values\n",
    "\n",
    "Working with Numpy arrays allows us to perform basic arithmetic operations on whole arrays (add, subtract, multiply, divide, raise to a power, etc.). Numpy will *broadcast* the operation along all the rows, which is why we always must be mindful that our shapes make sense. The arrays `rmag`, `vmag`, and `hmag` are all `(1001,)` arrays (1-D), and so we should be able to broadcast our operations without having to iterate over the rows."
   ]
  },
  {
   "cell_type": "code",
   "execution_count": null,
   "id": "9614c686-49b0-4776-a274-10f88f64c931",
   "metadata": {},
   "outputs": [],
   "source": [
    "a = 1.0/(2.0 / rmag - vmag**2/mu)\n",
    "ecc = np.sqrt(1 - hmag**2 / (mu * a))"
   ]
  },
  {
   "cell_type": "markdown",
   "id": "a4958a7f-de92-422f-9e89-16ac34e5435c",
   "metadata": {},
   "source": [
    "Verify that this makes sense by checking the values against what we expect. From Table A.2 in the Murray & Dermott book, Pluto's semimajor axis and eccentricity values are ~39.5 and ~0.25. If we've done our operations correctly, our answers should be close to that (though unlikely to be exactly the same, as the values do change over time)."
   ]
  },
  {
   "cell_type": "code",
   "execution_count": null,
   "id": "2338066b-7064-4a27-bb74-95c4d57769be",
   "metadata": {},
   "outputs": [],
   "source": [
    "print(f\"Pluto's semimajor axis at t0: {a[0]:.1f} AU\")\n",
    "print(f\"Pluto's eccentricity at t0: {ecc[0]:.2f}\")"
   ]
  },
  {
   "cell_type": "markdown",
   "id": "5ed5e610-a5f6-446f-a8cb-c1232e917c31",
   "metadata": {},
   "source": [
    "# Functional\n",
    "In this paradigm, we write each individual step as a function, then apply the functions in order to compute the final results. We will make sure that all of our functions are *pure* (or at least as pure as Python allows us to be, as it's not strictly a functional programming language). To do this, we need to make sure that the functions *always* return the same values for the same arguments, and so are free of side effects. The functions cannot change anything about the state of the program: data is passed in via arguments, is not allowed to change, and new data is passed back upon return."
   ]
  },
  {
   "cell_type": "markdown",
   "id": "6f6cd79f-7e2e-4ee1-b30e-7968d1450409",
   "metadata": {},
   "source": [
    "### 1. Compute the solar gravitational constant in the appropriate units."
   ]
  },
  {
   "cell_type": "code",
   "execution_count": null,
   "id": "fc9fb474-60a7-4d1a-8568-e79684c7de1c",
   "metadata": {},
   "outputs": [],
   "source": [
    "AU2M = const.au.value\n",
    "GMSunSI = const.GM_sun.value\n",
    "MSun = const.M_sun.value\n",
    "JD2S = 86400\n",
    "\n",
    "GMSunAUD = GMSunSI * JD2S**2 / AU2M**3"
   ]
  },
  {
   "cell_type": "markdown",
   "id": "ba42c260-acf8-4c9c-b9bd-67c622a157fe",
   "metadata": {},
   "source": [
    "### 2. Compute the 2-body Gravitational parameter $\\mu=G\\left(M_{sun}+M_{pluto}\\right)$."
   ]
  },
  {
   "cell_type": "code",
   "execution_count": null,
   "id": "be4b8fa3-429a-4401-b0fd-99c64ea16704",
   "metadata": {},
   "outputs": [],
   "source": [
    "Mpluto = 1.0 / 1.35e8\n",
    "mu = GMSunAUD * (1 + Mpluto)"
   ]
  },
  {
   "cell_type": "markdown",
   "id": "0552d6ee-2123-4ff2-838e-769dfb052508",
   "metadata": {},
   "source": [
    "### 3. Extract the position and velocity vectors for Pluto."
   ]
  },
  {
   "cell_type": "code",
   "execution_count": null,
   "id": "e381eeab-4d0b-4eba-bd29-3a322bc7cda0",
   "metadata": {},
   "outputs": [],
   "source": [
    "tvals = xv_data['Pluto'][:,0]\n",
    "rvec = xv_data['Pluto'][:,1:4]\n",
    "vvec = xv_data['Pluto'][:,4:7]"
   ]
  },
  {
   "cell_type": "markdown",
   "id": "ae60a3bc-1c2c-4589-8836-484bd974c9c0",
   "metadata": {},
   "source": [
    "### 4. Compute the magnitudes of the position, velocity, and angular momentum"
   ]
  },
  {
   "cell_type": "code",
   "execution_count": null,
   "id": "e8bab553-2627-4526-a189-e1eeccc0df16",
   "metadata": {},
   "outputs": [],
   "source": [
    "rmag = np.linalg.norm(rvec,axis=1)\n",
    "vmag = np.linalg.norm(vvec,axis=1)"
   ]
  },
  {
   "cell_type": "code",
   "execution_count": null,
   "id": "ede4e52f-b30a-4d41-8d6e-b81ad4b3c6dc",
   "metadata": {},
   "outputs": [],
   "source": [
    "h = np.cross(rvec,vvec)"
   ]
  },
  {
   "cell_type": "code",
   "execution_count": null,
   "id": "28f4091a-46fc-4193-a826-709af49df4ab",
   "metadata": {},
   "outputs": [],
   "source": [
    "hmag = np.linalg.norm(h,axis=1)"
   ]
  },
  {
   "cell_type": "markdown",
   "id": "8be615a1-bf82-4476-b8cd-33499c529ef5",
   "metadata": {
    "tags": []
   },
   "source": [
    "### 5. Compute semimajor axis and eccentricity values"
   ]
  },
  {
   "cell_type": "code",
   "execution_count": null,
   "id": "02080697-c53b-44ca-9eaf-06ed3d1ce783",
   "metadata": {},
   "outputs": [],
   "source": [
    "a = 1.0/(2.0 / rmag - vmag**2/mu)\n",
    "ecc = np.sqrt(1 - hmag**2 / (mu * a))"
   ]
  },
  {
   "cell_type": "code",
   "execution_count": null,
   "id": "4370726d-99a0-4cf7-9e5b-24c75a75e10c",
   "metadata": {},
   "outputs": [],
   "source": [
    "print(f\"Pluto's semimajor axis at t0: {a[0]:.1f} AU\")\n",
    "print(f\"Pluto's eccentricity at t0: {ecc[0]:.2f}\")"
   ]
  },
  {
   "cell_type": "markdown",
   "id": "bcc5eaaa-f191-402e-a312-37d0839f302f",
   "metadata": {},
   "source": [
    "# Object-Oriented\n",
    "In this paradigm, we encapsulate our data and the functions that act on the data into a construct known as an *object*. The structure of the object is defined using a `Class` definition. Unlike Functional programming, where communication of the state of the program is strictly limited to argument passing, in object-oriented programming the *methods* of the object (that is, the functions that are defined as a part of the object's class) can (and usually do) modify the state of the the object. "
   ]
  },
  {
   "cell_type": "code",
   "execution_count": null,
   "id": "915510ef-d52b-42be-822c-05dd23b56d12",
   "metadata": {},
   "outputs": [],
   "source": [
    "class Orbits:\n",
    "    def __init__(self, your_own_initialization_arguments):\n",
    "        return"
   ]
  },
  {
   "cell_type": "code",
   "execution_count": null,
   "id": "5de2cb98-584a-4e15-a0cb-cf0fac4c9855",
   "metadata": {},
   "outputs": [],
   "source": []
  }
 ],
 "metadata": {
  "kernelspec": {
   "display_name": "Python 3 (ipykernel)",
   "language": "python",
   "name": "python3"
  },
  "language_info": {
   "codemirror_mode": {
    "name": "ipython",
    "version": 3
   },
   "file_extension": ".py",
   "mimetype": "text/x-python",
   "name": "python",
   "nbconvert_exporter": "python",
   "pygments_lexer": "ipython3",
   "version": "3.9.13"
  }
 },
 "nbformat": 4,
 "nbformat_minor": 5
}
